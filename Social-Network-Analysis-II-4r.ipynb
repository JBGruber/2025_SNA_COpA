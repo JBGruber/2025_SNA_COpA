{
  "cells": [
    {
      "cell_type": "markdown",
      "id": "ae3d68c7-df7f-440d-b92a-627b8f24c940",
      "metadata": {},
      "source": [
        "# Social Network Analysis 2\n",
        "\n",
        "COST Action Training School in Computational Opinion Analysis – COpA\n",
        "\n",
        "Johannes B. Gruber \\| GESIS\n",
        "\n",
        "# Example: Divided They Blog\n",
        "\n",
        "## Packages and setup"
      ]
    },
    {
      "cell_type": "code",
      "execution_count": null,
      "id": "46979af7-c8c2-4a8c-8edf-8dcc1a2f891b",
      "metadata": {},
      "outputs": [],
      "source": [
        "if (Sys.getenv(\"COLAB_RELEASE_TAG\") != \"\") {\n",
        "  download.file(\"https://github.com/eddelbuettel/r2u/raw/master/inst/scripts/add_cranapt_focal.sh\",\n",
        "                \"add_cranapt_focal.sh\")\n",
        "  Sys.chmod(\"add_cranapt_focal.sh\", \"0755\")\n",
        "  system(\"./add_cranapt_focal.sh\")\n",
        "}\n",
        "# install missing packages\n",
        "required <- c(\"igraph\", \"tidyverse\", \"tidygraph\", \"ggraph\", \"atrrr\")\n",
        "missing <- setdiff(required, installed.packages()[,\"Package\"])\n",
        "install.packages(missing, Ncpus = 4)\n",
        "library(tidyverse); theme_set(theme_minimal())\n",
        "library(igraph)\n",
        "library(tidygraph)\n",
        "library(ggraph)\n",
        "library(atrrr)"
      ]
    },
    {
      "cell_type": "markdown",
      "id": "dd9ffa3d-8b24-4036-ad7f-9fa55f978a0e",
      "metadata": {},
      "source": [
        "## The Blogosphere data"
      ]
    },
    {
      "cell_type": "code",
      "execution_count": null,
      "id": "c1908913-2ee3-4e55-b906-0ba64d4584ff",
      "metadata": {},
      "outputs": [],
      "source": [
        "graph_file <- \"data/polblogs.zip\"\n",
        "dir.create(dirname(graph_file), showWarnings = FALSE)\n",
        "if (!file.exists(graph_file)) {\n",
        "  curl::curl_download(\n",
        "    \"https://public.websites.umich.edu/~mejn/netdata/polblogs.zip\",\n",
        "    graph_file\n",
        "  )\n",
        "}\n",
        "\n",
        "# have a quick look at the data description\n",
        "unz(graph_file, \"polblogs.txt\") |> \n",
        "  readLines() |> \n",
        "  cat(sep = \"\\n\")"
      ]
    },
    {
      "cell_type": "markdown",
      "id": "3bd48dbc-929e-41b0-a131-4a5cd9506e88",
      "metadata": {},
      "source": [
        "## graph data structure in `R`\n",
        "\n",
        "Let’s first look at the `igraph` graph class:"
      ]
    },
    {
      "cell_type": "code",
      "execution_count": null,
      "id": "06c49cd0-584b-4c15-983d-fe498e6cfbca",
      "metadata": {},
      "outputs": [],
      "source": [
        "polblogs_igraph <- igraph::read_graph(unz(graph_file, \"polblogs.gml\"), format = \"gml\") \n",
        "class(polblogs_igraph)\n",
        "polblogs_igraph"
      ]
    },
    {
      "cell_type": "markdown",
      "id": "c410b46e-38da-4573-b818-b68ac5ed7cf0",
      "metadata": {},
      "source": [
        "## graph data structure in `R`\n",
        "\n",
        "We can convert this to a `tidygraph` object:"
      ]
    },
    {
      "cell_type": "code",
      "execution_count": null,
      "id": "7a6a1e0e-86f4-47c9-8534-8da75a35622b",
      "metadata": {},
      "outputs": [],
      "source": [
        "polblogs_tbl <- as_tbl_graph(polblogs_igraph)\n",
        "class(polblogs_tbl)\n",
        "polblogs_tbl"
      ]
    },
    {
      "cell_type": "markdown",
      "id": "444e072e-5e17-41ab-8cd3-794a2c6fd11f",
      "metadata": {},
      "source": [
        "## graph data structure in `R`/`Python`\n",
        "\n",
        "Both `igraph` and `tbl_graph` objects essentially consist of two linked\n",
        "tables containing <span class=\"kn-pink\">nodes</span> (aka vertices) and\n",
        "<span class=\"kn-pink\">edges</span>."
      ]
    },
    {
      "cell_type": "code",
      "execution_count": null,
      "id": "51dec8fb-a3ef-4199-874b-97d2cb4e57c8",
      "metadata": {},
      "outputs": [],
      "source": [
        "polblogs_tbl |> \n",
        "  activate(\"nodes\") |> \n",
        "  as_tibble()"
      ]
    },
    {
      "cell_type": "code",
      "execution_count": null,
      "id": "10cf8c1c-eb76-4dc9-82a3-6d6b2a77e58d",
      "metadata": {},
      "outputs": [],
      "source": [
        "polblogs_tbl |> \n",
        "  activate(\"edges\") |> \n",
        "  as_tibble()"
      ]
    },
    {
      "cell_type": "markdown",
      "id": "2153a1ba-c350-4711-821e-ff9101c36650",
      "metadata": {},
      "source": [
        "## working with graph data structures in `R`\n",
        "\n",
        "We can look up the variables (like political class) for any given node\n",
        "by filtering. For example, let’s see the node with ID 30:"
      ]
    },
    {
      "cell_type": "code",
      "execution_count": null,
      "id": "fd4db65b-620e-47d3-9731-a18f4429176b",
      "metadata": {},
      "outputs": [],
      "source": [
        "polblogs_tbl |> \n",
        "  filter(id == 30)"
      ]
    },
    {
      "cell_type": "markdown",
      "id": "408a171a-176f-41f0-b99d-178b23ae5551",
      "metadata": {},
      "source": [
        "## working with graph data structures in `R`\n",
        "\n",
        "If we want to see how many left and right blogs are in the data, we can\n",
        "use `count`. But only after converting the nodes to a `data.frame`!"
      ]
    },
    {
      "cell_type": "code",
      "execution_count": null,
      "id": "f0488aca-ce34-4ad5-a9f1-bd2ce434819a",
      "metadata": {},
      "outputs": [],
      "source": [
        "polblogs_tbl |>\n",
        "  activate(\"nodes\") |>\n",
        "  as_tibble() |> \n",
        "  count(ideology = value)"
      ]
    },
    {
      "cell_type": "markdown",
      "id": "687cfe4e-d9a7-4640-804d-346f2d8ff665",
      "metadata": {},
      "source": [
        "## working with graph data structures in `R`\n",
        "\n",
        "The `value` variable is named terribly and stored in a strange format.\n",
        "Let’s change that using some more tidyverse functions that work\n",
        "out-of-the-box with `tidygraph` graphs:"
      ]
    },
    {
      "cell_type": "code",
      "execution_count": null,
      "id": "d9427b17-2284-431b-80b7-1eae9c07b811",
      "metadata": {},
      "outputs": [],
      "source": [
        "polblogs_tbl_new <- polblogs_tbl |> \n",
        "  activate(\"nodes\") |> \n",
        "  mutate(ideology = recode_factor(value, \n",
        "                                  \"0\" = \"left\",\n",
        "                                  \"1\" = \"right\"))\n",
        "polblogs_tbl_new"
      ]
    },
    {
      "cell_type": "markdown",
      "id": "b6a5ac40-ff1b-48ba-90ad-7e7356e02785",
      "metadata": {},
      "source": [
        "It’s not necessary to store ideology as a factor, but generally good\n",
        "practice in `R`. Whenever you have a variable with just a few repeating\n",
        "character values, a factor is more efficient.\n",
        "\n",
        "## first insights\n",
        "\n",
        "We can answer some initial questions about the data:\n",
        "\n",
        "-   how many left and right blogs are there?"
      ]
    },
    {
      "cell_type": "code",
      "execution_count": null,
      "id": "eb79e454-1012-4900-b251-798c06aff6b7",
      "metadata": {},
      "outputs": [],
      "source": [
        "polblogs_tbl_new |> \n",
        "  as_tibble() |> \n",
        "  count(ideology)"
      ]
    },
    {
      "cell_type": "markdown",
      "id": "bc4f0dac-24b1-4639-be6b-9f65c25b6d33",
      "metadata": {},
      "source": [
        "## first insights\n",
        "\n",
        "We can answer some initial questions about the data:\n",
        "\n",
        "-   how many connections (edges) do nodes have to other nodes?"
      ]
    },
    {
      "cell_type": "code",
      "execution_count": null,
      "id": "54878cea-74ef-4955-aedf-21c13ae8a697",
      "metadata": {},
      "outputs": [],
      "source": [
        "polblogs_tbl_new |> \n",
        "  activate(edges) |> \n",
        "  as_tibble() |> \n",
        "  count(from, sort = TRUE)"
      ]
    },
    {
      "cell_type": "markdown",
      "id": "f60683ff-8c27-4d73-8585-5d6ad35324a8",
      "metadata": {},
      "source": [
        "Let’s have a closer look at the top node:"
      ]
    },
    {
      "cell_type": "code",
      "execution_count": null,
      "id": "1a0428c4-182e-4875-82c9-3ed214c771f6",
      "metadata": {},
      "outputs": [],
      "source": [
        "polblogs_tbl_new |> \n",
        "  filter(id == 855) |> \n",
        "  as_tibble()"
      ]
    },
    {
      "cell_type": "code",
      "execution_count": null,
      "id": "d118809a-4465-4ee1-b6b3-b323b9980f29",
      "metadata": {},
      "outputs": [],
      "source": [
        "polblogs_tbl_new |> \n",
        "  activate(edges) |> \n",
        "  as_tibble() |> \n",
        "  count(to, sort = TRUE)"
      ]
    },
    {
      "cell_type": "markdown",
      "id": "9ba82886-3248-4481-84c8-f71fa67dc146",
      "metadata": {},
      "source": [
        "Let’s have a closer look at the top node:"
      ]
    },
    {
      "cell_type": "code",
      "execution_count": null,
      "id": "3dd4594e-f391-405f-af95-61e6056d0874",
      "metadata": {},
      "outputs": [],
      "source": [
        "polblogs_tbl_new |> \n",
        "  filter(id == 155) |> \n",
        "  as_tibble()"
      ]
    },
    {
      "cell_type": "markdown",
      "id": "20d41a71-4a0c-4903-a1f4-80fc619ba654",
      "metadata": {},
      "source": [
        "## first insights\n",
        "\n",
        "We can answer some initial questions about the data:\n",
        "\n",
        "-   do left and right blogs reference each other?"
      ]
    },
    {
      "cell_type": "code",
      "execution_count": null,
      "id": "fb70cdc9-0f23-4e40-bc8c-e1b3c2e3f03e",
      "metadata": {},
      "outputs": [],
      "source": [
        "polblogs_tbl_new |> \n",
        "  activate(edges) |> \n",
        "  mutate(from_ideo = .N()$ideology[from],\n",
        "         to_ideo = .N()$ideology[to]) |> \n",
        "  as_tibble() |> \n",
        "  count(from_ideo, to_ideo)"
      ]
    },
    {
      "cell_type": "markdown",
      "id": "2aee5eff-8587-4808-b337-9b46e962a05f",
      "metadata": {},
      "source": [
        "## visualising graphs in `R`\n",
        "\n",
        "-   `ggraph` inherits the idea of a grammar of graphics from `ggplot`\n",
        "-   hence, we build up plots in layers with visual aesthetics mapped to\n",
        "    data\n",
        "-   the difference is, we address map data from the nodes and edges\n",
        "    table\n",
        "\n",
        "<figure>\n",
        "<img src=\"https://ggraph.data-imaginist.com/reference/figures/logo.png\"\n",
        "alt=\"ggraph\" />\n",
        "<figcaption aria-hidden=\"true\">ggraph</figcaption>\n",
        "</figure>"
      ]
    },
    {
      "cell_type": "code",
      "execution_count": null,
      "id": "59468310-41ec-4095-9b3e-778a09e02070",
      "metadata": {},
      "outputs": [],
      "source": [
        "ggraph(graph = polblogs_tbl_new, layout = \"kk\") + \n",
        "  geom_edge_link() + \n",
        "  geom_node_point(aes(colour = ideology))"
      ]
    },
    {
      "cell_type": "markdown",
      "id": "481648d3-d3b6-49e1-9ba7-25e7f17298d0",
      "metadata": {},
      "source": [
        "## Recreate the plot from Adamic and Glance (2005)"
      ]
    },
    {
      "cell_type": "code",
      "execution_count": null,
      "id": "073b5cb5-23d5-4c67-bd08-f791673fb556",
      "metadata": {
        "output-location": "column"
      },
      "outputs": [],
      "source": [
        "polblogs_tbl_new |> \n",
        "  # you can sample the graph to make plotting quicker (but incomplete)\n",
        "  # sample_frac(0.1) |> \n",
        "  # the size of the bubbles is influenced by the number of blogs that link to it\n",
        "  mutate(referenced = centrality_degree(mode = \"in\", loops = FALSE)) |> \n",
        "  # remove isolated nodes\n",
        "  activate(nodes) |>\n",
        "  filter(!node_is_isolated()) |>\n",
        "  # the colour of edges is influenced by whether the connection is left, right \n",
        "  # or bipartisan\n",
        "  activate(edges) |> \n",
        "  mutate(col = case_when(\n",
        "    .N()$ideology[from] == \"left\" & .N()$ideology[to] == \"left\" ~ \"#2F357E\",\n",
        "    .N()$ideology[from] == \"right\" & .N()$ideology[to] == \"right\" ~ \"#D72F32\",\n",
        "    .N()$ideology[from] == \"left\" & .N()$ideology[to] == \"right\" ~ \"#f4c23b\",\n",
        "    .N()$ideology[from] == \"right\" & .N()$ideology[to] == \"left\" ~ \"#f4c23b\"\n",
        "  )) |> \n",
        "  # the stress majorization algorithm in ggraph is the closed to the original\n",
        "  # force directed layout from\n",
        "  ggraph(layout = \"stress\") +\n",
        "  geom_edge_link(aes(colour = col),\n",
        "                 arrow = arrow(length = unit(2, \"mm\"), type = \"closed\")) +\n",
        "  # we map the number of references to the size\n",
        "  geom_node_point(aes(fill = ideology, size = referenced),\n",
        "                  # black border and a different shape creates bubbles\n",
        "                  colour = \"black\", pch = 21) +\n",
        "  scale_fill_manual(values = c(left = \"#2F357E\", right = \"#D72F32\")) +\n",
        "  scale_edge_colour_identity() + \n",
        "  theme_graph()"
      ]
    },
    {
      "cell_type": "markdown",
      "id": "17f80eb8-bad8-426d-9147-e5a9de40fa8c",
      "metadata": {},
      "source": [
        "## volatile layouts\n",
        "\n",
        "One thing that always makes me cautious about interpreting network plots\n",
        "is how volatile the placement of nodes in the plot is and how much it\n",
        "can trick you into finding a pattern where none exists. So let’s look at\n",
        "an experiment:\n",
        "\n",
        "Prepare data for plotting:"
      ]
    },
    {
      "cell_type": "code",
      "execution_count": null,
      "id": "4d90a625-9941-467f-a81c-ae0f341356a8",
      "metadata": {},
      "outputs": [],
      "source": [
        "set.seed(1)\n",
        "plot_data <- polblogs_tbl_new |> \n",
        "  # you can sample the graph to make plotting quicker (but incomplete)\n",
        "  sample_frac(0.25) |> \n",
        "  mutate(referenced = centrality_degree(mode = \"in\", loops = FALSE)) |> \n",
        "  activate(nodes) |>\n",
        "  filter(!node_is_isolated()) |>\n",
        "  activate(edges) |> \n",
        "  mutate(col = case_when(\n",
        "    .N()$ideology[from] == \"left\" & .N()$ideology[to] == \"left\" ~ \"#2F357E\",\n",
        "    .N()$ideology[from] == \"right\" & .N()$ideology[to] == \"right\" ~ \"#D72F32\",\n",
        "    .N()$ideology[from] == \"left\" & .N()$ideology[to] == \"right\" ~ \"#f4c23b\",\n",
        "    .N()$ideology[from] == \"right\" & .N()$ideology[to] == \"left\" ~ \"#f4c23b\"\n",
        "  ))"
      ]
    },
    {
      "cell_type": "markdown",
      "id": "5e81fd8b-2554-44c3-8e5e-605bb4ce17cc",
      "metadata": {},
      "source": [
        "Get all available layouts:"
      ]
    },
    {
      "cell_type": "code",
      "execution_count": null,
      "id": "28cf24c3-4f2f-4fad-a7df-5dcdeb3161cc",
      "metadata": {},
      "outputs": [],
      "source": [
        "layouts <- c(\n",
        "  \"auto\",       # Automatic layout\n",
        "  \"circle\",     # Circular layout\n",
        "  \"dh\",         # Davidson-Harel layout\n",
        "  \"drl\",        # Distributed Recursive Layout\n",
        "  \"fr\",         # Fruchterman-Reingold layout\n",
        "  \"gem\",        # GEM layout\n",
        "  \"graphopt\",   # Graphopt layout\n",
        "  \"grid\",       # Grid layout\n",
        "  \"kk\",         # Kamada-Kawai layout\n",
        "  \"lgl\",        # Large Graph Layout\n",
        "  \"linear\",     # Linear layout\n",
        "  \"mds\",        # Multidimensional Scaling layout\n",
        "  \"randomly\",   # Random layout\n",
        "  \"sphere\",     # Spherical layout\n",
        "  \"star\",       # Star layout\n",
        "  \"stress\",     # Stress majorization layout\n",
        "  \"sugiyama\",   # Sugiyama layout (for layered graphs)\n",
        "  \"tree\"        # Tree layout\n",
        ")"
      ]
    },
    {
      "cell_type": "markdown",
      "id": "f6af1b83-498c-4923-b688-0ca7139259b6",
      "metadata": {},
      "source": [
        "## volatile layouts"
      ]
    },
    {
      "cell_type": "code",
      "execution_count": null,
      "id": "d542540d-637e-4fd8-9532-95c9f691b673",
      "metadata": {
        "output-location": "column"
      },
      "outputs": [],
      "source": [
        "dir.create(\"media/layouts/\")\n",
        "for (layout in layouts) {\n",
        "  \n",
        "  # plot status message in interactive sessions\n",
        "  if (interactive()) {\n",
        "    message(\"plotting using layout \", layout)\n",
        "  }\n",
        "  \n",
        "  plot_f <- paste0(\"media/layouts/network_\", layout, \".png\")\n",
        "  \n",
        "  if (!file.exists(plot_f)) {\n",
        "    p <- plot_data |> \n",
        "      ggraph(layout = layout) +\n",
        "      geom_edge_link(aes(colour = col),\n",
        "                     arrow = arrow(length = unit(2, \"mm\"), type = \"closed\")) +\n",
        "      # we map the number of references to the size\n",
        "      geom_node_point(aes(fill = ideology, size = referenced),\n",
        "                      # black border and a different shape creates bubbles\n",
        "                      colour = \"black\", pch = 21) +\n",
        "      scale_fill_manual(values = c(left = \"#2F357E\", right = \"#D72F32\")) +\n",
        "      scale_edge_colour_identity() + \n",
        "      theme_graph() +\n",
        "      labs(caption = paste0(\"Layout: \", layout))\n",
        "    ggsave(filename = plot_f, plot = p, width = 7, height = 7)\n",
        "  }\n",
        "  \n",
        "}\n",
        "gif_file <- list.files(\"media/layouts/\", full.names = TRUE) |> \n",
        "  gifski::gifski(gif_file = \"media/layouts.gif\")\n",
        "knitr::include_graphics(gif_file)"
      ]
    },
    {
      "cell_type": "markdown",
      "id": "3f6a5cf5-b769-42ac-96aa-420785831894",
      "metadata": {},
      "source": [
        "## community detection\n",
        "\n",
        "In the previous figure we used the political orientation of blogs\n",
        "manually assigned by Adamic and Glance (2005). Usually, we want to\n",
        "detect communities from the network structure itself. We learned about\n",
        "the <span class=\"kn-pink\">Louvain</span> and\n",
        "<span class=\"kn-pink\">Leiden</span> algorithms (and about their\n",
        "downsides). So let’s start with these."
      ]
    },
    {
      "cell_type": "code",
      "execution_count": null,
      "id": "1e8d0b4b-fba8-470b-ac68-16b27e3c8437",
      "metadata": {
        "output-location": "column"
      },
      "outputs": [],
      "source": [
        "polblogs_tbl_new_grouped <- polblogs_tbl_new |> \n",
        "  activate(nodes) |>\n",
        "  to_undirected() |> \n",
        "  mutate(group_louvain = group_louvain(),\n",
        "         group_leiden = group_leiden())\n",
        "\n",
        "polblogs_tbl_new_grouped |> \n",
        "  as_tibble()"
      ]
    },
    {
      "cell_type": "markdown",
      "id": "c8c1c0c5-d829-4747-9bd5-ed2b5adf4f3f",
      "metadata": {},
      "source": [
        "## community detection"
      ]
    },
    {
      "cell_type": "code",
      "execution_count": null,
      "id": "67a7ae69-f04d-417e-8187-fbf845456fbd",
      "metadata": {
        "output-location": "column"
      },
      "outputs": [],
      "source": [
        "polblogs_tbl_new_grouped |> \n",
        "  activate(nodes) |>\n",
        "  mutate(group_louvain = factor(group_louvain()),\n",
        "         group_leiden = factor(group_leiden())) |> \n",
        "  # the size of the bubbles is influenced by the number of blogs that link to it\n",
        "  mutate(referenced = centrality_degree(mode = \"in\", loops = FALSE)) |> \n",
        "  # remove isolated nodes\n",
        "  filter(!node_is_isolated()) |>\n",
        "  ggraph(layout = \"stress\") +\n",
        "  geom_edge_link(colour = \"gray\",\n",
        "                 arrow = arrow(length = unit(2, \"mm\"), type = \"closed\")) +\n",
        "  # we map the number of references to the size\n",
        "  geom_node_point(aes(fill = group_louvain, size = referenced),\n",
        "                  # black border and a different shape creates bubbles\n",
        "                  colour = \"black\", pch = 21) +\n",
        "  theme_graph() +\n",
        "  labs(title = \"Blogosphere grouped by Louvain\")"
      ]
    },
    {
      "cell_type": "markdown",
      "id": "e46730dc-04f5-4761-afbf-89d8d1a7b467",
      "metadata": {},
      "source": [
        "## community detection"
      ]
    },
    {
      "cell_type": "code",
      "execution_count": null,
      "id": "86a2f277-05dd-4b4b-afee-ea383234f286",
      "metadata": {
        "output-location": "column"
      },
      "outputs": [],
      "source": [
        "polblogs_tbl_new_grouped |> \n",
        "  activate(nodes) |>\n",
        "  mutate(group_louvain = factor(group_louvain()),\n",
        "         group_leiden = factor(group_leiden())) |> \n",
        "  # the size of the bubbles is influenced by the number of blogs that link to it\n",
        "  mutate(referenced = centrality_degree(mode = \"in\", loops = FALSE)) |> \n",
        "  # remove isolated nodes\n",
        "  filter(!node_is_isolated()) |>\n",
        "  ggraph(layout = \"stress\") +\n",
        "  geom_edge_link(colour = \"gray\",\n",
        "                 arrow = arrow(length = unit(2, \"mm\"), type = \"closed\")) +\n",
        "  # we map the number of references to the size\n",
        "  geom_node_point(aes(fill = group_leiden, size = referenced),\n",
        "                  # black border and a different shape creates bubbles\n",
        "                  colour = \"black\", pch = 21, show.legend = FALSE) +\n",
        "  theme_graph() +\n",
        "  labs(title = \"Blogosphere grouped by Leiden\")"
      ]
    },
    {
      "cell_type": "markdown",
      "id": "76869de1-17f0-40d4-8d26-2ed52ef02464",
      "metadata": {},
      "source": [
        "# Bluesky: What is my Bluesky network?\n",
        "\n",
        "Before we start working with Bluesky, you should authenticate your session with an app password.\n",
        "To obtain the password, visit <https://bsky.app/settings/app-passwords>:"
      ]
    },
    {
      "cell_type": "code",
      "execution_count": null,
      "id": "6709c981-76e4-411e-bc05-8f13392acbc6",
      "metadata": {},
      "outputs": [],
      "source": [
        "auth(\"jbgruber.bsky.social\", \"your_password\")"
      ]
    },
    {
      "cell_type": "markdown",
      "id": "a88832b3-5707-4ad8-909c-b4e5de807c05",
      "metadata": {},
      "source": [
        "When you are new to Bluesky you should start by searching a few names\n",
        "that you know. There are also starter packs like\n",
        "<https://bsky.app/starter-pack/sof14g1l.bsky.social/3lbc4bqetfp22> which\n",
        "you can follow. But what then? Given the idea of homophily, you might\n",
        "want to check who the people you follow, follow themselves. So let’s get\n",
        "started with that (replace my handle with yours below if you like):"
      ]
    },
    {
      "cell_type": "code",
      "execution_count": null,
      "id": "4ed699ba-35f4-4fa3-b6e7-5bb4686b6bb5",
      "metadata": {},
      "outputs": [],
      "source": [
        "my_follows <- get_follows(actor = \"jbgruber.bsky.social\", limit = Inf)\n",
        "my_follows |>\n",
        "  glimpse()"
      ]
    },
    {
      "cell_type": "markdown",
      "id": "50796fe4-ad0c-425d-8c2a-692ebd1926ce",
      "metadata": {},
      "source": [
        "Next, we want to see who they follow:"
      ]
    },
    {
      "cell_type": "code",
      "execution_count": null,
      "id": "71bf75f7-3b7b-4519-8fc1-f5a6878d9a92",
      "metadata": {},
      "outputs": [],
      "source": [
        "their_follows <- my_follows$actor_handle |> \n",
        "  # the 50 accounts at the bottom of the list are the ones I followed first\n",
        "  tail(50) |> \n",
        "  map(function(handle) {\n",
        "  # for demo purposes I add a limit since some follow 1000s\n",
        "  tibble(\n",
        "    from = handle,\n",
        "    to =  get_follows(handle, limit = 1000L, verbose = FALSE)$actor_handle\n",
        "  )\n",
        "}, .progress = TRUE) |> \n",
        "  bind_rows()\n",
        "saveRDS(their_follows, \"data/their_follows.rds\")"
      ]
    },
    {
      "cell_type": "code",
      "execution_count": null,
      "id": "c14a9773-1692-4d8b-adc3-e6f4d83a379f",
      "metadata": {},
      "outputs": [],
      "source": [
        "if (!file.exists(\"data/their_follows.rds\")) {\n",
        "  curl::curl_download(\n",
        "    \"https://www.dropbox.com/scl/fi/jc13aic7daa8z6ullv491/their_follows.rds?rlkey=7yp63480tk613ofm83j7sm1ei&st=9bqmj47b&dl=1\",\n",
        "    \"data/their_follows.rds\"\n",
        "  )\n",
        "}\n",
        "their_follows <- readRDS(\"data/their_follows.rds\")"
      ]
    },
    {
      "cell_type": "markdown",
      "id": "b7805528-0af0-4b2f-9b14-8bee6efc0860",
      "metadata": {},
      "source": [
        "As a first step, we can just check the raw number of who shows up most\n",
        "often here:"
      ]
    },
    {
      "cell_type": "code",
      "execution_count": null,
      "id": "359d9d20-133c-42ac-9717-dae476fd4c01",
      "metadata": {},
      "outputs": [],
      "source": [
        "their_follows |> \n",
        "  count(to) |> \n",
        "  filter(to != \"handle.invalid\") |> \n",
        "  slice_max(order_by = n, n = 15) |> \n",
        "  mutate(to = fct_reorder(to, n)) |> \n",
        "  ggplot(aes(x = n, y = to)) +\n",
        "  geom_col()"
      ]
    },
    {
      "cell_type": "markdown",
      "id": "2e15b07c-72ad-4aae-b56f-bbd41297d8aa",
      "metadata": {},
      "source": [
        "But we can also use network analysis to find influential accounts:"
      ]
    },
    {
      "cell_type": "code",
      "execution_count": null,
      "id": "9980a204-354d-4be3-a56f-a76a65fd180b",
      "metadata": {},
      "outputs": [],
      "source": [
        "follows_graph <- as_tbl_graph(their_follows, directed = TRUE) |> \n",
        "  activate(nodes) %>%\n",
        "  mutate(\n",
        "    degree = centrality_degree(),\n",
        "    closeness = centrality_closeness(),\n",
        "    betweeness = centrality_betweenness(),\n",
        "    eigenvector = centrality_eigen()\n",
        "  )"
      ]
    },
    {
      "cell_type": "markdown",
      "id": "91b64daa-8e44-4096-9bbf-c89c7d825de8",
      "metadata": {},
      "source": [
        "Let’s look at **degree** centrality (simply counts the number of\n",
        "neighbors a node has):"
      ]
    },
    {
      "cell_type": "code",
      "execution_count": null,
      "id": "557279bd-a79e-4e45-88ed-6dc2199a4f1e",
      "metadata": {},
      "outputs": [],
      "source": [
        "follows_graph |> \n",
        "  as_tibble() |> \n",
        "  arrange(degree) |> \n",
        "  slice_max(degree, n = 10)"
      ]
    },
    {
      "cell_type": "markdown",
      "id": "f7aec9c6-c5ae-4ada-bada-4079d341f594",
      "metadata": {},
      "source": [
        "**closeness** (computes the shortest path distances among nodes. The\n",
        "most central node has the minimum distance to all other nodes)"
      ]
    },
    {
      "cell_type": "code",
      "execution_count": null,
      "id": "493b11c5-2baf-4eea-9b2e-2ab0b5cdbbea",
      "metadata": {},
      "outputs": [],
      "source": [
        "follows_graph |> \n",
        "  as_tibble() |> \n",
        "  arrange(closeness) |> \n",
        "  slice_max(closeness, n = 10)"
      ]
    },
    {
      "cell_type": "markdown",
      "id": "40c2931f-89d6-4fa0-8dde-a1074748467a",
      "metadata": {},
      "source": [
        "**betweeness** (number of shortest paths that pass through a node,\n",
        "divided by the total number of shortest paths)"
      ]
    },
    {
      "cell_type": "code",
      "execution_count": null,
      "id": "50280a72-0903-40b2-827a-863216f94ccf",
      "metadata": {},
      "outputs": [],
      "source": [
        "central_accounts <- follows_graph |> \n",
        "  as_tibble() |> \n",
        "  arrange(betweeness) |> \n",
        "  slice_max(betweeness, n = 10)\n",
        "central_accounts"
      ]
    },
    {
      "cell_type": "markdown",
      "id": "74fc21cc-ce4c-4d4b-aeeb-9f784eee4d7b",
      "metadata": {},
      "source": [
        "and **eigenvector centrality** (extends the idea of degree by assuming\n",
        "that a node is central if it is connected to other central nodes)"
      ]
    },
    {
      "cell_type": "code",
      "execution_count": null,
      "id": "375302fd-7ded-4442-8272-593cf4e97832",
      "metadata": {},
      "outputs": [],
      "source": [
        "follows_graph |> \n",
        "  as_tibble() |> \n",
        "  arrange(eigenvector) |> \n",
        "  slice_max(eigenvector, n = 10)"
      ]
    },
    {
      "cell_type": "markdown",
      "id": "12c7ce49-89d8-40b5-9516-fed8a74c0515",
      "metadata": {},
      "source": [
        "We can also visialise this network and highlight some of the accounts in\n",
        "it:"
      ]
    },
    {
      "cell_type": "code",
      "execution_count": null,
      "id": "f2d8badb-9cd7-429e-9037-9cf2871d56bc",
      "metadata": {},
      "outputs": [],
      "source": [
        "follows_graph |> \n",
        "  mutate(central_account = name %in% central_accounts$name) |> \n",
        "  slice_max(eigenvector, n = 500) |> \n",
        "  ggraph(layout = \"mds\") +\n",
        "  geom_edge_link(alpha = 0.7) +\n",
        "  geom_node_point(aes(size = betweeness, color = central_account)) +\n",
        "  scale_color_manual(values = c(\"TRUE\" = \"firebrick\", \"FALSE\" = \"lightblue\")) +\n",
        "  geom_node_label(aes(label = ifelse(central_account, name, NA)), vjust = 1, hjust = 1) +\n",
        "  theme_graph() +\n",
        "  coord_equal(clip = \"off\")"
      ]
    },
    {
      "cell_type": "markdown",
      "id": "9067ff08-66b9-4736-8bf3-53eea8371b0e",
      "metadata": {},
      "source": [
        "For a different approach to find people to follow, you can check out\n",
        "<https://www.johannesbgruber.eu/post/2024-11-24-bluesky-rising/>.\n",
        "\n",
        "# Bluesky: Checking out the #rstats network\n",
        "\n",
        "First let’s get some data. The code below searches for posts that\n",
        "mention the hashtag #rstats, which is widely use for all things R:"
      ]
    },
    {
      "cell_type": "code",
      "execution_count": null,
      "id": "03d7c75b-c26e-4359-9a4d-03176bafb540",
      "metadata": {},
      "outputs": [],
      "source": [
        "rstats_content <- search_post(\"#rstats\", since = \"2025-04-01\", limit = Inf)\n",
        "saveRDS(rstats_content, \"data/rstats_content.rds\")"
      ]
    },
    {
      "cell_type": "code",
      "execution_count": null,
      "id": "d965110d-0000-4b98-a0e5-ce466c23fd3d",
      "metadata": {},
      "outputs": [],
      "source": [
        "if (!file.exists(\"data/rstats_content.rds\")) {\n",
        "  curl::curl_download(\n",
        "    \"https://www.dropbox.com/scl/fi/jc13aic7daa8z6ullv491/their_follows.rds?rlkey=7yp63480tk613ofm83j7sm1ei&st=7hsyjz50&dl=1\",\n",
        "    \"data/rstats_content.rds\"\n",
        "  )\n",
        "}\n",
        "rstats_content <- readRDS(\"data/rstats_content.rds\")"
      ]
    },
    {
      "cell_type": "markdown",
      "id": "28443af0-52df-433e-b0a1-9be565ed1f04",
      "metadata": {},
      "source": [
        "## Semantic Network/Co-hashtag Network\n",
        "\n",
        "The first network we can build from this data is a co-occurence network.\n",
        "We check, which hashtags are used together in these posts. In other\n",
        "words: the hashtags are nodes, and the edges are whether the hashtags\n",
        "were used together. As a first step, let’s get some info on the most\n",
        "popular hashtags:"
      ]
    },
    {
      "cell_type": "code",
      "execution_count": null,
      "id": "6b05ffa6-b515-4061-97ec-90784a9f136b",
      "metadata": {},
      "outputs": [],
      "source": [
        "rstats_tags <- rstats_content |> \n",
        "  unnest_longer(tags) |> \n",
        "  mutate(hashtag = tolower(tags))\n",
        "\n",
        "rstats_tags_count <- rstats_tags |> \n",
        "  count(hashtag)\n",
        "\n",
        "rstats_tags_count |> \n",
        "  slice_max(order_by = n, n = 10) |> \n",
        "  mutate(hashtag = fct_reorder(hashtag, n)) |> \n",
        "  ggplot(aes(x = n, y = hashtag)) +\n",
        "  geom_col()"
      ]
    },
    {
      "cell_type": "markdown",
      "id": "334e5374-3266-400a-a947-f9b4b7ddce37",
      "metadata": {},
      "source": [
        "Now, to find co-occurrence of hashtags. You could also do this with\n",
        "words, but it often comes out less meaningful."
      ]
    },
    {
      "cell_type": "code",
      "execution_count": null,
      "id": "38c8249a-c865-4423-8258-84f82dc3fc8a",
      "metadata": {},
      "outputs": [],
      "source": [
        "rstats_tags_cooc <- rstats_tags |> \n",
        "  # for each post (or rather for each unique post ID), we get all possible \n",
        "  # combinations of hashtags\n",
        "  group_by(cid) |> \n",
        "  group_map(function(df, ...) expand_grid(from = df$hashtag, to = df$hashtag)) |> \n",
        "  bind_rows() |> \n",
        "  # we filter out cases where the hashtag 'coocurrs' with itself\n",
        "  filter(from != to)\n",
        "rstats_tags_cooc"
      ]
    },
    {
      "cell_type": "markdown",
      "id": "0de62fab-6511-403a-a546-71330fd2c9f1",
      "metadata": {},
      "source": [
        "Now you should notice this looks like a network already. Let’s make it\n",
        "one:"
      ]
    },
    {
      "cell_type": "code",
      "execution_count": null,
      "id": "400cb4c5-53a8-47eb-b94b-fecc082c87c6",
      "metadata": {},
      "outputs": [],
      "source": [
        "rstats_tags_network <- tbl_graph(edges = rstats_tags_cooc, directed = FALSE) |> \n",
        "  activate(nodes) |> \n",
        "  left_join(rstats_tags_count, by = c(\"name\" = \"hashtag\"))\n",
        "rstats_tags_network"
      ]
    },
    {
      "cell_type": "markdown",
      "id": "c2ed0cf9-691f-424e-91cb-730d49429747",
      "metadata": {},
      "source": [
        "We can try a few things to turn this into a nice plot. Let’s get a\n",
        "baseline first:"
      ]
    },
    {
      "cell_type": "code",
      "execution_count": null,
      "id": "10f10841-22ae-49e5-bc48-ea6118d2c1ba",
      "metadata": {},
      "outputs": [],
      "source": [
        "rstats_tags_network |> \n",
        "  activate(nodes) |> \n",
        "  # to make it easier to look at, let's limit ourselves to top hashtags\n",
        "  slice_max(order_by = n, n = 50) |> \n",
        "  ggraph(layout = \"stress\") +\n",
        "  geom_edge_link() +\n",
        "  # instead of nodes, I use labels directly here\n",
        "  geom_node_label(aes(label = name)) +\n",
        "  theme_graph()"
      ]
    },
    {
      "cell_type": "markdown",
      "id": "f2134ba2-775b-47f0-bad4-4ddcbfea2835",
      "metadata": {},
      "source": [
        "We can use color to show the centrality of nodes. You can play around\n",
        "with which measure produces the most interesting visual."
      ]
    },
    {
      "cell_type": "code",
      "execution_count": null,
      "id": "b74b4418-3da2-4592-9432-de520f71b7a9",
      "metadata": {},
      "outputs": [],
      "source": [
        "rstats_tags_network |> \n",
        "  activate(nodes) |> \n",
        "  mutate(\n",
        "    degree = centrality_degree(),\n",
        "    closeness = centrality_closeness(),\n",
        "    betweeness = centrality_betweenness(),\n",
        "    eigenvector = centrality_eigen()\n",
        "  ) |> \n",
        "  slice_max(order_by = n, n = 50) |> \n",
        "  ggraph(layout = \"stress\") +\n",
        "  geom_edge_link() +\n",
        "  geom_node_label(aes(label = name, fill = eigenvector)) +\n",
        "  scale_fill_continuous(low = \"lightblue\", high = \"firebrick\") +\n",
        "  theme_graph()"
      ]
    },
    {
      "cell_type": "markdown",
      "id": "ca772e31-7a61-45ed-ab45-103b21473bd4",
      "metadata": {},
      "source": [
        "We can also see if we can find some communities in this data. As above,\n",
        "we are using the Louvain and Leiden algorithms:"
      ]
    },
    {
      "cell_type": "code",
      "execution_count": null,
      "id": "34e92d9e-9080-4959-8198-d0ec4383cee0",
      "metadata": {},
      "outputs": [],
      "source": [
        "rstats_tags_network_communities <- rstats_tags_network |> \n",
        "  activate(nodes) |> \n",
        "  mutate(group_louvain = as.factor(group_louvain()),\n",
        "         group_leiden = as.factor(group_leiden()))\n",
        "rstats_tags_network_communities |> \n",
        "  as_tibble()"
      ]
    },
    {
      "cell_type": "markdown",
      "id": "46a1784a-2ec9-456e-b7f6-4babb198382f",
      "metadata": {},
      "source": [
        "Here is the network grouped by Louvain:"
      ]
    },
    {
      "cell_type": "code",
      "execution_count": null,
      "id": "fc7f4edc-842e-48e2-b324-f3cc1f2f25de",
      "metadata": {},
      "outputs": [],
      "source": [
        "rstats_tags_network_communities |> \n",
        "  slice_max(order_by = n, n = 100) |> \n",
        "  ggraph(layout = \"mds\") +\n",
        "  geom_edge_link() +\n",
        "  geom_node_label(aes(label = name, fill = group_louvain), show.legend = FALSE) +\n",
        "  theme_graph() +\n",
        "  coord_equal(clip = \"off\")"
      ]
    },
    {
      "cell_type": "markdown",
      "id": "36f0820d-cd0c-4055-9317-480e16011a8c",
      "metadata": {},
      "source": [
        "And here it is grouped by the Leiden algorithm:"
      ]
    },
    {
      "cell_type": "code",
      "execution_count": null,
      "id": "9a6ffa04-a6ba-46e4-b2a4-dfbe67177b36",
      "metadata": {},
      "outputs": [],
      "source": [
        "rstats_tags_network_communities |> \n",
        "  slice_max(order_by = n, n = 100) |> \n",
        "  ggraph(layout = \"mds\") +\n",
        "  geom_edge_link() +\n",
        "  geom_node_label(aes(label = name, fill = group_leiden), show.legend = FALSE) +\n",
        "  theme_graph() +\n",
        "  coord_equal(clip = \"off\")"
      ]
    },
    {
      "cell_type": "markdown",
      "id": "387817a1-3471-4fb2-b92c-1ae180d68e88",
      "metadata": {},
      "source": [
        "``` python\n",
        "plt.figure(figsize=(15, 12))\n",
        "pos = nx.spring_layout(hashtag_subgraph, k=2, iterations=50)\n",
        "\n",
        "# Color nodes by Leiden communities\n",
        "community_colors = plt.cm.Set1(np.linspace(0, 1, len(leiden_communities)))\n",
        "node_colors = [community_colors[leiden_dict.get(node, 0)] for node in hashtag_subgraph.nodes()]\n",
        "\n",
        "nx.draw_networkx_nodes(hashtag_subgraph, pos, node_color=node_colors, node_size=300)\n",
        "nx.draw_networkx_edges(hashtag_subgraph, pos, alpha=0.3, width=0.5)\n",
        "nx.draw_networkx_labels(hashtag_subgraph, pos, font_size=8)\n",
        "\n",
        "plt.title('Hashtag Network - Leiden Communities', fontsize=16)\n",
        "plt.axis('off')\n",
        "plt.tight_layout()\n",
        "plt.show()\n",
        "```\n",
        "\n",
        "## Follower Network\n",
        "\n",
        "Within the #rstats content, we can also check the community that posts\n",
        "this content. We first get the user handles from the data:"
      ]
    },
    {
      "cell_type": "code",
      "execution_count": null,
      "id": "b4276574-0b88-4624-98a8-46812d67a9fc",
      "metadata": {},
      "outputs": [],
      "source": [
        "rstats_users <- rstats_content |> \n",
        "  distinct(author_handle)"
      ]
    },
    {
      "cell_type": "markdown",
      "id": "bdda207a-c649-499c-9b3b-ccd9c98dbca9",
      "metadata": {},
      "source": [
        "Now we query who follows these users who post about #rstats:"
      ]
    },
    {
      "cell_type": "code",
      "execution_count": null,
      "id": "49293daa-9c15-4111-a9d4-11f42ef66ace",
      "metadata": {},
      "outputs": [],
      "source": [
        "follower_data <- rstats_users |> \n",
        "  mutate(followed_by = map(author_handle, function(a) {\n",
        "    # not sure why, but some handles errored when I ran this\n",
        "    try(get_followers(a, verbose = FALSE)$actor_handle, silent = TRUE)\n",
        "  }, .progress = TRUE))\n",
        "saveRDS(follower_data, \"data/follower_data.rds\")"
      ]
    },
    {
      "cell_type": "code",
      "execution_count": null,
      "id": "fbc16062-52e9-413e-be30-53c1b781bb0e",
      "metadata": {},
      "outputs": [],
      "source": [
        "if (!file.exists(\"data/follower_data.rds\")) {\n",
        "  curl::curl_download(\n",
        "    \"https://www.dropbox.com/scl/fi/j9t1uejgs6uqdurfo6fdb/follower_data.rds?rlkey=uueaembzfp0xznxmv3art3zg4&st=u96f11ae&dl=1\",\n",
        "    \"data/follower_data.rds\"\n",
        "  )\n",
        "}\n",
        "follower_data <- readRDS(\"data/follower_data.rds\")"
      ]
    },
    {
      "cell_type": "markdown",
      "id": "2c2854f9-b17e-4f45-94ff-2ffcfc691406",
      "metadata": {},
      "source": [
        "Who follows the most accounts contributing to #rstats?"
      ]
    },
    {
      "cell_type": "code",
      "execution_count": null,
      "id": "95b3595b-6dcb-4089-91bf-ec651f52f76b",
      "metadata": {},
      "outputs": [],
      "source": [
        "follower_data |> \n",
        "  filter(map_lgl(followed_by, function(f) !is(f, \"try-error\"))) |> \n",
        "  unnest_longer(followed_by) |> \n",
        "  count(followed_by) |> \n",
        "  slice_max(order_by = n, n = 10) |> \n",
        "  mutate(followed_by = fct_reorder(followed_by, n)) |> \n",
        "  ggplot(aes(x = n, y = followed_by)) +\n",
        "  geom_col()"
      ]
    },
    {
      "cell_type": "markdown",
      "id": "5f51bb61-9267-460b-b85d-9926a5f8e519",
      "metadata": {},
      "source": [
        "We can turn this data into a directed network where the nodes are users\n",
        "and the edges are whether a user follows another:"
      ]
    },
    {
      "cell_type": "code",
      "execution_count": null,
      "id": "68f569a7-0dd5-4b61-a509-144054a2f23a",
      "metadata": {},
      "outputs": [],
      "source": [
        "follower_network <- follower_data |> \n",
        "  filter(map_lgl(followed_by, function(res) !is(res, \"try-error\"))) |> \n",
        "  unnest_longer(followed_by, values_to = \"to\") |> \n",
        "  rename(from = author_handle) |> \n",
        "  tbl_graph(edges = _, directed = TRUE)"
      ]
    },
    {
      "cell_type": "code",
      "execution_count": null,
      "id": "c3bbbee6-3c7e-40f5-96c0-fcb0ab18db7c",
      "metadata": {},
      "outputs": [],
      "source": [
        "follower_network |> \n",
        "  ggraph(layout = \"stress\") +\n",
        "  geom_edge_link() +\n",
        "  geom_node_point() +\n",
        "  theme_graph()"
      ]
    },
    {
      "cell_type": "markdown",
      "id": "bdd9c5cf-676f-464c-8176-46690d1106b3",
      "metadata": {},
      "source": [
        "This is a mess, since there are so many nodes in the network now. We can\n",
        "again look for the most central nodes (aka users) in this network:"
      ]
    },
    {
      "cell_type": "code",
      "execution_count": null,
      "id": "10d5c777-3c9d-4963-9756-6ba0094aaa4e",
      "metadata": {},
      "outputs": [],
      "source": [
        "follower_network_central <- follower_network |> \n",
        "  mutate(\n",
        "    degree = centrality_degree(),\n",
        "    closeness = centrality_closeness(),\n",
        "    betweeness = centrality_betweenness(),\n",
        "    eigenvector = centrality_eigen()\n",
        "  )\n",
        "\n",
        "follower_network_central |>\n",
        "  arrange(-degree) |> \n",
        "  as_tibble()"
      ]
    },
    {
      "cell_type": "markdown",
      "id": "3502a999-03df-4a29-9c53-056a907b1fc9",
      "metadata": {},
      "source": [
        "Now let’s try only the most central accounts:"
      ]
    },
    {
      "cell_type": "code",
      "execution_count": null,
      "id": "fdf0c9dd-55f0-4e3a-ab46-5e783731cd5b",
      "metadata": {},
      "outputs": [],
      "source": [
        "most_central <- follower_network_central |> \n",
        "  slice_max(eigenvector, n = 5) |> \n",
        "  activate(nodes) |> \n",
        "  as_tibble()\n",
        "\n",
        "follower_network_central |> \n",
        "  slice_max(eigenvector, n = 100) |> \n",
        "  ggraph(layout = \"stress\") +\n",
        "  geom_edge_link() +\n",
        "  geom_node_point(color = \"firebrick\") +\n",
        "  geom_node_label(aes(label = ifelse(name %in% most_central$name,\n",
        "                                     name,\n",
        "                                     NA))) +\n",
        "  theme_graph()"
      ]
    },
    {
      "cell_type": "markdown",
      "id": "c27d87d1-7509-469d-b7e2-66f152c756e6",
      "metadata": {},
      "source": [
        "## Mention Network\n",
        "\n",
        "We can also contruct a network with users as nodes and mentions as the\n",
        "edges. For this, let’s extract mentions first:"
      ]
    },
    {
      "cell_type": "code",
      "execution_count": null,
      "id": "d4c5d491-46b9-4696-93c1-236b12d8b12e",
      "metadata": {},
      "outputs": [],
      "source": [
        "rstats_mentions <- rstats_content |> \n",
        "  filter(str_detect(text, \"@\")) |> \n",
        "  mutate(mentions = str_extract_all(text, \"@\\\\w+\")) |> \n",
        "  select(from = author_handle, to = mentions) |> \n",
        "  unnest_longer(to)"
      ]
    },
    {
      "cell_type": "markdown",
      "id": "06bc311c-ef00-431e-b755-d5cc85ed1094",
      "metadata": {},
      "source": [
        "Let’s see who is mentioned most:"
      ]
    },
    {
      "cell_type": "code",
      "execution_count": null,
      "id": "fd03f70c-a304-408c-863f-1cd6fcd725ac",
      "metadata": {},
      "outputs": [],
      "source": [
        "rstats_mentions |> \n",
        "  count(to) |>\n",
        "  slice_max(order_by = n, n = 10) |> \n",
        "  mutate(to = fct_reorder(to, n)) |> \n",
        "  ggplot(aes(x = n, y = to)) +\n",
        "  geom_col()"
      ]
    },
    {
      "cell_type": "markdown",
      "id": "63976bb8-b18f-435a-a972-47cbc9be98ca",
      "metadata": {},
      "source": [
        "The network comes natural at this point:"
      ]
    },
    {
      "cell_type": "code",
      "execution_count": null,
      "id": "864ddc4f-2a1b-4d97-a91a-b804d4babe8c",
      "metadata": {},
      "outputs": [],
      "source": [
        "rstats_mentions_netowrk <- tbl_graph(edges = rstats_mentions, directed = TRUE)\n",
        "rstats_mentions_netowrk |> \n",
        "  ggraph(layout = \"stress\") +\n",
        "  geom_edge_link() +\n",
        "  geom_node_point() +\n",
        "  theme_graph() +\n",
        "  labs(title = \"mention network in #rstats posts\")"
      ]
    },
    {
      "cell_type": "markdown",
      "id": "3bbb3226-7186-467b-a1dc-e8e9b8ae5f35",
      "metadata": {},
      "source": [
        "## Share/repost Network\n",
        "\n",
        "Another way to contruct a network from this data is by looking for\n",
        "reposts. Here the nodes would be posts"
      ]
    },
    {
      "cell_type": "code",
      "execution_count": null,
      "id": "bfc07057-6e3e-4dc0-9c35-76781d6c8f8a",
      "metadata": {},
      "outputs": [],
      "source": [
        "repost_data <- rstats_content |> \n",
        "  filter(repost_count > 0) |> \n",
        "  mutate(\n",
        "    reposts = map(uri, function(u) {\n",
        "      get_reposts(u, limit = Inf, verbose = FALSE)\n",
        "    }, .progress = TRUE),\n",
        "    reposted_by = map(reposts, \"actor_handle\")\n",
        "  )\n",
        "saveRDS(repost_data, \"data/repost_data.rds\")"
      ]
    },
    {
      "cell_type": "code",
      "execution_count": null,
      "id": "5746d1db-778c-488b-9fbd-18114eab1023",
      "metadata": {},
      "outputs": [],
      "source": [
        "if (!file.exists(\"data/repost_data.rds\")) {\n",
        "  curl::curl_download(\n",
        "    \"https://www.dropbox.com/scl/fi/gt93b4tgfyez3m4imtwdz/repost_data.rds?rlkey=m07wa09c41x8ag4l82o1d1c4e&st=ys107vd1&dl=1\",\n",
        "    \"data/repost_data.rds\"\n",
        "  )\n",
        "}\n",
        "repost_data <- readRDS(\"data/repost_data.rds\")"
      ]
    },
    {
      "cell_type": "code",
      "execution_count": null,
      "id": "9c9ecd0d-1546-4cf0-8f44-b8113e8e5b72",
      "metadata": {},
      "outputs": [],
      "source": [
        "repost_network <- repost_data |> \n",
        "  unnest_longer(reposted_by, values_to = \"to\") |> \n",
        "  rename(from = author_handle) |> \n",
        "  tbl_graph(edges = _, directed = TRUE)"
      ]
    },
    {
      "cell_type": "code",
      "execution_count": null,
      "id": "aa2dcb26-d363-4703-a1ee-1560977f5746",
      "metadata": {},
      "outputs": [],
      "source": [
        "repost_network |> \n",
        "  ggraph(layout = \"mds\") +\n",
        "  geom_edge_link() +\n",
        "  geom_node_point(color = \"firebrick\") +\n",
        "  theme_graph()"
      ]
    },
    {
      "cell_type": "markdown",
      "id": "569165d1-8e90-4a65-a645-4742597c340e",
      "metadata": {},
      "source": [
        "Let’s look at centrality again to see"
      ]
    },
    {
      "cell_type": "code",
      "execution_count": null,
      "id": "e234b7cb-f57c-4719-a25f-e2327d9f96e2",
      "metadata": {},
      "outputs": [],
      "source": [
        "repost_network_central <- repost_network |> \n",
        "  mutate(\n",
        "    degree = centrality_degree(),\n",
        "    closeness = centrality_closeness(),\n",
        "    betweeness = centrality_betweenness(),\n",
        "    eigenvector = centrality_eigen()\n",
        "  )\n",
        "\n",
        "repost_network_central |>\n",
        "  arrange(-degree) |> \n",
        "  as_tibble()"
      ]
    },
    {
      "cell_type": "markdown",
      "id": "69d34c39-31c2-4c6f-ab6f-2b01039b827e",
      "metadata": {},
      "source": [
        "Let’s once again see which are the most central accounts:"
      ]
    },
    {
      "cell_type": "code",
      "execution_count": null,
      "id": "61ed8ff6-a0aa-442c-8b22-bea4237e1bd6",
      "metadata": {},
      "outputs": [],
      "source": [
        "most_central <- repost_network_central |> \n",
        "  slice_max(degree, n = 5) |> \n",
        "  activate(nodes) |> \n",
        "  as_tibble()\n",
        "\n",
        "repost_network_central |> \n",
        "  slice_max(degree, n = 100) |> \n",
        "  ggraph(layout = \"stress\") +\n",
        "  geom_edge_link() +\n",
        "  geom_node_point(color = \"firebrick\") +\n",
        "  geom_node_label(aes(label = ifelse(name %in% most_central$name,\n",
        "                                     name,\n",
        "                                     NA))) +\n",
        "  theme_graph()"
      ]
    },
    {
      "cell_type": "markdown",
      "id": "eff23ce6-a450-4342-8229-258ebd450e4e",
      "metadata": {},
      "source": [
        "Let’s see if we can find any sensible communities in this network:"
      ]
    },
    {
      "cell_type": "code",
      "execution_count": null,
      "id": "cd4df42f-17d4-4483-b808-9b007cdadd6c",
      "metadata": {},
      "outputs": [],
      "source": [
        "repost_network_central |> \n",
        "  activate(nodes) |>\n",
        "  to_undirected() |> \n",
        "  mutate(group_louvain = group_louvain(),\n",
        "         group_leiden = group_leiden()) |> \n",
        "  ggraph(layout = \"mds\") +\n",
        "  geom_edge_link() +\n",
        "  geom_node_point(aes(color = group_louvain)) +\n",
        "  geom_node_label(aes(label = ifelse(name %in% most_central$name,\n",
        "                                     name,\n",
        "                                     NA))) +\n",
        "  theme_graph()"
      ]
    }
  ],
  "metadata": {
    "kernelspec": {
      "display_name": "Python 3",
      "language": "python",
      "name": "python3"
    },
    "language_info": {
      "name": "python"
    }
  },
  "nbformat": 4,
  "nbformat_minor": 5
}
